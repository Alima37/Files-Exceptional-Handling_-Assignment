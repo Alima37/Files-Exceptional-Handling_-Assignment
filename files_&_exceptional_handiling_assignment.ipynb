{
  "nbformat": 4,
  "nbformat_minor": 0,
  "metadata": {
    "colab": {
      "provenance": []
    },
    "kernelspec": {
      "name": "python3",
      "display_name": "Python 3"
    },
    "language_info": {
      "name": "python"
    }
  },
  "cells": [
    {
      "cell_type": "markdown",
      "source": [
        "#Theory Questions And Answers"
      ],
      "metadata": {
        "id": "4dmiRcQAHPke"
      }
    },
    {
      "cell_type": "markdown",
      "source": [
        "1. What is the difference between interpreted and compiled languages?\n",
        "     - Interpreted languages (like Python) execute code line by line using an interpreter.\n",
        "\n",
        "     - Compiled languages (like C/C++) are translated into machine code by a compiler before execution, resulting in faster performance.\n",
        "\n"
      ],
      "metadata": {
        "id": "PeX1kv8mHWJ_"
      }
    },
    {
      "cell_type": "markdown",
      "source": [
        "2.  What is exception handling in Python?\n",
        "     - Exception handling is a mechanism to handle runtime errors gracefully using try, except, finally, and else blocks to prevent program crashes."
      ],
      "metadata": {
        "id": "oPigT8tpHo8R"
      }
    },
    {
      "cell_type": "markdown",
      "source": [
        "3. What is the purpose of the finally block in exception handling?\n",
        "     - The finally block is used to define cleanup code that will run no matter what, whether an exception occurs or not (e.g., closing a file or releasing resources)."
      ],
      "metadata": {
        "id": "m0MokuN4IAJM"
      }
    },
    {
      "cell_type": "markdown",
      "source": [
        "4. What is logging in Python?\n",
        "     - Logging is the process of recording events or errors during the execution of a program using the logging module. It helps in debugging and monitoring applications."
      ],
      "metadata": {
        "id": "uzwUGtjgIGGL"
      }
    },
    {
      "cell_type": "markdown",
      "source": [
        "5. What is the significance of the __del__ method in Python?\n",
        "     - The __del__ method is a destructor method that is called when an object is about to be destroyed. It is used to clean up resources."
      ],
      "metadata": {
        "id": "EB8O-u_SILpJ"
      }
    },
    {
      "cell_type": "markdown",
      "source": [
        "6. What is the difference between import and from ... import in Python?\n",
        "     - import module imports the whole module.\n",
        "\n",
        "     - from module import function imports only specific attributes or functions from the module."
      ],
      "metadata": {
        "id": "Lf7sdbUvIQ7L"
      }
    },
    {
      "cell_type": "markdown",
      "source": [
        "7.  How can you handle multiple exceptions in Python?\n",
        "     - Use multiple except blocks or group them:\n",
        "\n",
        "        try:\n",
        "\n",
        "          except (TypeError, ValueError) as e:\n",
        "       \n",
        "          print(e)"
      ],
      "metadata": {
        "id": "POJHESHWIe0Q"
      }
    },
    {
      "cell_type": "markdown",
      "source": [
        "8. What is the purpose of the with statement when handling files in Python?\n",
        "     - The with statement ensures that the file is properly closed after its suite finishes, even if an exception is raised."
      ],
      "metadata": {
        "id": "WtkokDifI6Qo"
      }
    },
    {
      "cell_type": "markdown",
      "source": [
        "9. What is the difference between multithreading and multiprocessing?\n",
        "     - Multithreading uses threads to run tasks concurrently within the same process.\n",
        "\n",
        "     - Multiprocessing uses multiple processes to run tasks in parallel, bypassing the GIL in Python."
      ],
      "metadata": {
        "id": "zV1ssCwjJB22"
      }
    },
    {
      "cell_type": "markdown",
      "source": [
        "10. What are the advantages of using logging in a program?\n",
        "     - Tracks errors and events\n",
        "\n",
        "     - Helps in debugging\n",
        "\n",
        "     - Can be directed to files or remote servers\n",
        "\n",
        "     - Supports different log levels"
      ],
      "metadata": {
        "id": "Et8cnmJ8JK-c"
      }
    },
    {
      "cell_type": "markdown",
      "source": [
        "11. What is memory management in Python?\n",
        "     - Python manages memory automatically using a private heap and includes features like garbage collection and dynamic memory allocation."
      ],
      "metadata": {
        "id": "19xBeuMnJbiG"
      }
    },
    {
      "cell_type": "markdown",
      "source": [
        "12. What are the basic steps involved in exception handling in Python?\n",
        "     - Step 1: try: Block of code to attempt\n",
        "\n",
        "     - Step 2: except: Block to handle exceptions\n",
        "\n",
        "     - Step 3: else: Executes if no exception occurs\n",
        "\n",
        "     - Step 4: finally: Executes always for cleanup\n",
        "\n"
      ],
      "metadata": {
        "id": "qUD_4roKJhcf"
      }
    },
    {
      "cell_type": "markdown",
      "source": [
        "13. Why is memory management important in Python?\n",
        "     - Efficient memory management avoids memory leaks, improves performance, and ensures resources are freed when no longer needed."
      ],
      "metadata": {
        "id": "lpaJ6k9gJ2Gp"
      }
    },
    {
      "cell_type": "markdown",
      "source": [
        "14. What is the role of try and except in exception handling?\n",
        "     - try: Wraps code that might cause an exception\n",
        "\n",
        "     - except: Handles the exception if it occurs"
      ],
      "metadata": {
        "id": "J_NCLaz0J8uF"
      }
    },
    {
      "cell_type": "markdown",
      "source": [
        "15. How does Python's garbage collection system work?\n",
        "     - Python uses reference counting and a cyclic garbage collector to reclaim memory by deleting objects with no references."
      ],
      "metadata": {
        "id": "9Ni-F2xLKEu6"
      }
    },
    {
      "cell_type": "markdown",
      "source": [
        "16.  What is the purpose of the else block in exception handling?\n",
        "     - The else block runs if the try block did not raise any exception, making it useful for code that should run only on success."
      ],
      "metadata": {
        "id": "Kca2qDHlKLnP"
      }
    },
    {
      "cell_type": "markdown",
      "source": [
        "17. What are the common logging levels in Python?\n",
        "     - DEBUG\n",
        "     - INFO\n",
        "\n",
        "     - WARNING\n",
        "\n",
        "     - ERROR\n",
        "\n",
        "     - CRITICAL"
      ],
      "metadata": {
        "id": "d_hREIl3KRZk"
      }
    },
    {
      "cell_type": "markdown",
      "source": [
        "18. What is the difference between os.fork() and multiprocessing in Python?\n",
        "     - os.fork() creates a child process (Unix only).\n",
        "\n",
        "     - multiprocessing is cross-platform and provides a higher-level API."
      ],
      "metadata": {
        "id": "SbKHVi-8KgKI"
      }
    },
    {
      "cell_type": "markdown",
      "source": [
        "19. What is the importance of closing a file in Python?\n",
        "     - It ensures that resources are released, data is written to disk, and prevents memory leaks."
      ],
      "metadata": {
        "id": "FuYUpNrBKzk2"
      }
    },
    {
      "cell_type": "markdown",
      "source": [
        "20. What is the difference between file.read() and file.readline() in Python?\n",
        "     - file.read(): Reads the entire file content.\n",
        "\n",
        "     - file.readline(): Reads a single line from the file."
      ],
      "metadata": {
        "id": "bwDsf_P-K-GE"
      }
    },
    {
      "cell_type": "markdown",
      "source": [
        "21.  What is the logging module in Python used for?\n",
        "     - The logging module is used to track events that happen during program execution, useful for debugging and monitoring."
      ],
      "metadata": {
        "id": "mWKr1eSCLLD_"
      }
    },
    {
      "cell_type": "markdown",
      "source": [
        "22. What is the os module in Python used for in file handling?\n",
        "     - The os module provides functions for interacting with the operating system, such as checking file paths, creating directories, etc."
      ],
      "metadata": {
        "id": "uxHx_SP0LSuD"
      }
    },
    {
      "cell_type": "markdown",
      "source": [
        "23. What are the challenges associated with memory management in Python?\n",
        "     - Reference cycles\n",
        "\n",
        "     - Memory leaks in large applications\n",
        "\n",
        "     - Managing external resources (files, sockets)"
      ],
      "metadata": {
        "id": "HqSNdNVSLbW_"
      }
    },
    {
      "cell_type": "markdown",
      "source": [
        "24. How do you raise an exception manually in Python?\n",
        "     - Use the raise keyword:\n",
        "\n",
        "         raise ValueError(\"Invalid input\")"
      ],
      "metadata": {
        "id": "eRTaktISLn26"
      }
    },
    {
      "cell_type": "markdown",
      "source": [
        "25. Why is it important to use multithreading in certain applications?\n",
        "     - Multithreading is useful in I/O-bound tasks (e.g., web servers, file downloads) to improve responsiveness and efficiency."
      ],
      "metadata": {
        "id": "xvNtW7QYLyul"
      }
    },
    {
      "cell_type": "markdown",
      "source": [
        "#Practical Questions"
      ],
      "metadata": {
        "id": "Fi1vIo9oL6du"
      }
    },
    {
      "cell_type": "markdown",
      "source": [
        "1. How can you open a file for writing in Python and write a string to it?"
      ],
      "metadata": {
        "id": "zCSBvOBIMCtx"
      }
    },
    {
      "cell_type": "code",
      "source": [
        "with open('output.txt', 'w') as file:\n",
        "    file.write(\"Hello, this is a sample string.\")"
      ],
      "metadata": {
        "id": "fCOlMPxLMqLL"
      },
      "execution_count": 1,
      "outputs": []
    },
    {
      "cell_type": "markdown",
      "source": [
        "2. Write a Python program to read the contents of a file and print each line"
      ],
      "metadata": {
        "id": "KAlXUSsNMzyN"
      }
    },
    {
      "cell_type": "code",
      "source": [
        "with open('sample.txt', 'r') as file:\n",
        "    for line in file:\n",
        "        print(line.strip())\n"
      ],
      "metadata": {
        "id": "lmeyKJ0RMyys"
      },
      "execution_count": null,
      "outputs": []
    },
    {
      "cell_type": "markdown",
      "source": [
        "3. How would you handle a case where the file doesn't exist while trying to open it for reading?"
      ],
      "metadata": {
        "id": "8Ep7GEIPNgd6"
      }
    },
    {
      "cell_type": "code",
      "source": [
        "try:\n",
        "    with open('nonexistent.txt', 'r') as file:\n",
        "        content = file.read()\n",
        "except FileNotFoundError:\n",
        "    print(\"The file does not exist.\")"
      ],
      "metadata": {
        "colab": {
          "base_uri": "https://localhost:8080/"
        },
        "id": "ZP7diwR3N0wh",
        "outputId": "7ace9043-21a1-4bd0-eaa3-0fb6c4ffc85e"
      },
      "execution_count": 4,
      "outputs": [
        {
          "output_type": "stream",
          "name": "stdout",
          "text": [
            "The file does not exist.\n"
          ]
        }
      ]
    },
    {
      "cell_type": "markdown",
      "source": [
        "4. Write a Python script that reads from one file and writes its content to another file"
      ],
      "metadata": {
        "id": "TnPBh2KLN7kE"
      }
    },
    {
      "cell_type": "code",
      "source": [
        "with open('source.txt', 'r') as src, open('destination.txt', 'w') as dest:\n",
        "    for line in src:\n",
        "        dest.write(line)"
      ],
      "metadata": {
        "id": "EvKMUrzuOsf5"
      },
      "execution_count": null,
      "outputs": []
    },
    {
      "cell_type": "markdown",
      "source": [
        "5.  How would you catch and handle division by zero error in Python?"
      ],
      "metadata": {
        "id": "HxIU6zNfOzCp"
      }
    },
    {
      "cell_type": "code",
      "source": [
        "try:\n",
        "    result = 10 / 0\n",
        "except ZeroDivisionError:\n",
        "    print(\"Cannot divide by zero.\")"
      ],
      "metadata": {
        "colab": {
          "base_uri": "https://localhost:8080/"
        },
        "id": "t6yoIxThO49k",
        "outputId": "b494003a-4e56-4339-cd2e-6871259ab4f2"
      },
      "execution_count": 6,
      "outputs": [
        {
          "output_type": "stream",
          "name": "stdout",
          "text": [
            "Cannot divide by zero.\n"
          ]
        }
      ]
    },
    {
      "cell_type": "markdown",
      "source": [
        "6. Write a Python program that logs an error message to a log file when a division by zero exception occurs"
      ],
      "metadata": {
        "id": "8Vqmcn9qO9xX"
      }
    },
    {
      "cell_type": "code",
      "source": [
        "import logging\n",
        "\n",
        "logging.basicConfig(filename='error.log', level=logging.ERROR)\n",
        "\n",
        "try:\n",
        "    x = 1 / 0\n",
        "except ZeroDivisionError as e:\n",
        "    logging.error(\"Division by zero error: %s\", e)\n"
      ],
      "metadata": {
        "colab": {
          "base_uri": "https://localhost:8080/"
        },
        "id": "xBFghd_OPBQE",
        "outputId": "8ad96a9e-8d43-427a-a703-8319c1f43fbf"
      },
      "execution_count": 7,
      "outputs": [
        {
          "output_type": "stream",
          "name": "stderr",
          "text": [
            "ERROR:root:Division by zero error: division by zero\n"
          ]
        }
      ]
    },
    {
      "cell_type": "markdown",
      "source": [
        "7. How do you log information at different levels (INFO, ERROR, WARNING) in Python using the logging module?"
      ],
      "metadata": {
        "id": "FHo8iZwIPFv1"
      }
    },
    {
      "cell_type": "code",
      "source": [
        "import logging\n",
        "\n",
        "logging.basicConfig(level=logging.DEBUG)\n",
        "logging.info(\"This is an info message.\")\n",
        "logging.warning(\"This is a warning message.\")\n",
        "logging.error(\"This is an error message.\")\n"
      ],
      "metadata": {
        "colab": {
          "base_uri": "https://localhost:8080/"
        },
        "id": "tUqAZu0mPKaW",
        "outputId": "8c4e7e77-332c-4901-ffae-aceaabec21fb"
      },
      "execution_count": 8,
      "outputs": [
        {
          "output_type": "stream",
          "name": "stderr",
          "text": [
            "WARNING:root:This is a warning message.\n",
            "ERROR:root:This is an error message.\n"
          ]
        }
      ]
    },
    {
      "cell_type": "markdown",
      "source": [
        "8. Write a program to handle a file opening error using exception handling"
      ],
      "metadata": {
        "id": "-EzleXGrPOah"
      }
    },
    {
      "cell_type": "code",
      "source": [
        "try:\n",
        "    file = open('missing.txt', 'r')\n",
        "except FileNotFoundError:\n",
        "    print(\"File not found.\")\n"
      ],
      "metadata": {
        "colab": {
          "base_uri": "https://localhost:8080/"
        },
        "id": "65VStyeyPX8X",
        "outputId": "64cb875a-e2d0-4c6b-b04a-ca40c297940f"
      },
      "execution_count": 9,
      "outputs": [
        {
          "output_type": "stream",
          "name": "stdout",
          "text": [
            "File not found.\n"
          ]
        }
      ]
    },
    {
      "cell_type": "markdown",
      "source": [
        "9. How can you read a file line by line and store its content in a list in Python?"
      ],
      "metadata": {
        "id": "9fh9_3EOPSSK"
      }
    },
    {
      "cell_type": "code",
      "source": [
        "with open('data.txt', 'r') as file:\n",
        "    lines = file.readlines()\n",
        "print(lines)\n"
      ],
      "metadata": {
        "id": "8WoafF5VPexa"
      },
      "execution_count": null,
      "outputs": []
    },
    {
      "cell_type": "markdown",
      "source": [
        "10. How can you append data to an existing file in Python?"
      ],
      "metadata": {
        "id": "Yid2kSPkPkO4"
      }
    },
    {
      "cell_type": "code",
      "source": [
        "with open('data.txt', 'a') as file:\n",
        "    file.write(\"\\nThis is an appended line.\")\n"
      ],
      "metadata": {
        "id": "3QovHnj8PjQp"
      },
      "execution_count": 11,
      "outputs": []
    },
    {
      "cell_type": "markdown",
      "source": [
        "11. Write a Python program that uses a try-except block to handle an error when attempting to access a dictionary key that doesn't exist"
      ],
      "metadata": {
        "id": "ijuFdwXCPtIa"
      }
    },
    {
      "cell_type": "code",
      "source": [
        "data = {'name': 'John'}\n",
        "\n",
        "try:\n",
        "    print(data['age'])\n",
        "except KeyError:\n",
        "    print(\"Key not found in dictionary.\")\n"
      ],
      "metadata": {
        "colab": {
          "base_uri": "https://localhost:8080/"
        },
        "id": "ZaEoV7WUPx_I",
        "outputId": "4d029205-d246-42f6-9115-1753a30fe02b"
      },
      "execution_count": 12,
      "outputs": [
        {
          "output_type": "stream",
          "name": "stdout",
          "text": [
            "Key not found in dictionary.\n"
          ]
        }
      ]
    },
    {
      "cell_type": "markdown",
      "source": [
        "12. Write a program that demonstrates using multiple except blocks to handle different types of exceptions"
      ],
      "metadata": {
        "id": "endQuLs2P1xm"
      }
    },
    {
      "cell_type": "code",
      "source": [
        "try:\n",
        "    x = int('abc')  # ValueError\n",
        "    y = 10 / 0      # ZeroDivisionError\n",
        "except ValueError:\n",
        "    print(\"Invalid value!\")\n",
        "except ZeroDivisionError:\n",
        "    print(\"Cannot divide by zero.\")\n"
      ],
      "metadata": {
        "colab": {
          "base_uri": "https://localhost:8080/"
        },
        "id": "IBFkGIPPQAUZ",
        "outputId": "e04f5c2b-87ff-4668-bae8-96e934c36bdd"
      },
      "execution_count": 13,
      "outputs": [
        {
          "output_type": "stream",
          "name": "stdout",
          "text": [
            "Invalid value!\n"
          ]
        }
      ]
    },
    {
      "cell_type": "markdown",
      "source": [
        "13. How would you check if a file exists before attempting to read it in Python?"
      ],
      "metadata": {
        "id": "m3rTbs21QER9"
      }
    },
    {
      "cell_type": "code",
      "source": [
        "import os\n",
        "\n",
        "if os.path.exists('file.txt'):\n",
        "    with open('file.txt', 'r') as file:\n",
        "        print(file.read())\n",
        "else:\n",
        "    print(\"File does not exist.\")\n"
      ],
      "metadata": {
        "colab": {
          "base_uri": "https://localhost:8080/"
        },
        "id": "LhdkdhgIQIqc",
        "outputId": "04780975-0316-4fcc-8c36-f9701d30c9d0"
      },
      "execution_count": 14,
      "outputs": [
        {
          "output_type": "stream",
          "name": "stdout",
          "text": [
            "File does not exist.\n"
          ]
        }
      ]
    },
    {
      "cell_type": "markdown",
      "source": [
        "14. Write a program that uses the logging module to log both informational and error messages"
      ],
      "metadata": {
        "id": "_NPQM3mDQMMO"
      }
    },
    {
      "cell_type": "code",
      "source": [
        "import logging\n",
        "\n",
        "logging.basicConfig(filename='logfile.log', level=logging.INFO)\n",
        "logging.info(\"This is an informational message.\")\n",
        "try:\n",
        "    1 / 0\n",
        "except ZeroDivisionError:\n",
        "    logging.error(\"Division by zero error occurred.\")\n"
      ],
      "metadata": {
        "colab": {
          "base_uri": "https://localhost:8080/"
        },
        "id": "2I37xlL6QQSH",
        "outputId": "ded66abf-0339-4983-f52b-7ddcf950b640"
      },
      "execution_count": 15,
      "outputs": [
        {
          "output_type": "stream",
          "name": "stderr",
          "text": [
            "ERROR:root:Division by zero error occurred.\n"
          ]
        }
      ]
    },
    {
      "cell_type": "markdown",
      "source": [
        "15. Write a Python program that prints the content of a file and handles the case when the file is empty"
      ],
      "metadata": {
        "id": "zG9E7DZfQT49"
      }
    },
    {
      "cell_type": "code",
      "source": [
        "with open('file.txt', 'r') as file:\n",
        "    content = file.read()\n",
        "    if content:\n",
        "        print(content)\n",
        "    else:\n",
        "        print(\"The file is empty.\")\n"
      ],
      "metadata": {
        "id": "JTU4Lv69QXgP"
      },
      "execution_count": null,
      "outputs": []
    },
    {
      "cell_type": "markdown",
      "source": [
        "16. Demonstrate how to use memory profiling to check the memory usage of a small program.\n",
        "     - Install memory profiler:"
      ],
      "metadata": {
        "id": "6kkDEDjRQmYl"
      }
    },
    {
      "cell_type": "code",
      "source": [
        "pip install memory-profiler\n"
      ],
      "metadata": {
        "id": "rk2oSFICQbq3"
      },
      "execution_count": null,
      "outputs": []
    },
    {
      "cell_type": "code",
      "source": [
        "from memory_profiler import profile\n",
        "\n",
        "@profile\n",
        "def create_list():\n",
        "    return [i for i in range(10000)]\n",
        "\n",
        "create_list()\n"
      ],
      "metadata": {
        "id": "MyMQYSEZQ-4T"
      },
      "execution_count": null,
      "outputs": []
    },
    {
      "cell_type": "markdown",
      "source": [
        "17. Write a Python program to create and write a list of numbers to a file, one number per line"
      ],
      "metadata": {
        "id": "GxLk2BaMQuz5"
      }
    },
    {
      "cell_type": "code",
      "source": [
        "numbers = [1, 2, 3, 4, 5]\n",
        "with open('numbers.txt', 'w') as file:\n",
        "    for num in numbers:\n",
        "        file.write(f\"{num}\\n\")\n"
      ],
      "metadata": {
        "id": "Eo9uhNPwRNvI"
      },
      "execution_count": 19,
      "outputs": []
    },
    {
      "cell_type": "markdown",
      "source": [
        "18. How would you implement a basic logging setup that logs to a file with rotation after 1MB"
      ],
      "metadata": {
        "id": "hIcpkxQ3RRTg"
      }
    },
    {
      "cell_type": "code",
      "source": [
        "import logging\n",
        "from logging.handlers import RotatingFileHandler\n",
        "\n",
        "handler = RotatingFileHandler('app.log', maxBytes=1024*1024, backupCount=5)\n",
        "logging.basicConfig(handlers=[handler], level=logging.INFO)\n",
        "logging.info(\"This is a log message.\")\n"
      ],
      "metadata": {
        "id": "qe3pauTLRWpM"
      },
      "execution_count": 20,
      "outputs": []
    },
    {
      "cell_type": "markdown",
      "source": [
        "19.  Write a program that handles both IndexError and KeyError using a try-except block"
      ],
      "metadata": {
        "id": "iYOv-_3_RcWg"
      }
    },
    {
      "cell_type": "code",
      "source": [
        "data = {'name': 'Alice'}\n",
        "lst = [1, 2, 3]\n",
        "\n",
        "try:\n",
        "    print(lst[5])\n",
        "    print(data['age'])\n",
        "except IndexError:\n",
        "    print(\"List index out of range.\")\n",
        "except KeyError:\n",
        "    print(\"Key not found in dictionary.\")\n"
      ],
      "metadata": {
        "colab": {
          "base_uri": "https://localhost:8080/"
        },
        "id": "RcJ_W0BsRje1",
        "outputId": "bb25071c-5b6d-4a56-c526-38dedb231920"
      },
      "execution_count": 21,
      "outputs": [
        {
          "output_type": "stream",
          "name": "stdout",
          "text": [
            "List index out of range.\n"
          ]
        }
      ]
    },
    {
      "cell_type": "markdown",
      "source": [
        "20. How would you open a file and read its contents using a context manager in Python?"
      ],
      "metadata": {
        "id": "3XRdDioORnu8"
      }
    },
    {
      "cell_type": "code",
      "source": [
        "with open('sample.txt', 'r') as file:\n",
        "    content = file.read()\n",
        "    print(content)\n"
      ],
      "metadata": {
        "id": "e_Q01jNERsMm"
      },
      "execution_count": null,
      "outputs": []
    },
    {
      "cell_type": "markdown",
      "source": [
        "21. Write a Python program that reads a file and prints the number of occurrences of a specific word"
      ],
      "metadata": {
        "id": "7mLj8LgzRxTM"
      }
    },
    {
      "cell_type": "code",
      "source": [
        "word = \"python\"\n",
        "count = 0\n",
        "\n",
        "with open('sample.txt', 'r') as file:\n",
        "    for line in file:\n",
        "        count += line.lower().count(word)\n",
        "\n",
        "print(f\"'{word}' occurred {count} times.\")\n"
      ],
      "metadata": {
        "id": "1UgyKbYsR11D"
      },
      "execution_count": null,
      "outputs": []
    },
    {
      "cell_type": "markdown",
      "source": [
        "22. How can you check if a file is empty before attempting to read its contents?"
      ],
      "metadata": {
        "id": "79Bdw0iSR6XL"
      }
    },
    {
      "cell_type": "code",
      "source": [
        "import os\n",
        "\n",
        "if os.path.getsize('file.txt') == 0:\n",
        "    print(\"File is empty.\")\n",
        "else:\n",
        "    with open('file.txt', 'r') as file:\n",
        "        print(file.read())\n"
      ],
      "metadata": {
        "id": "JDkU2siKR-O1"
      },
      "execution_count": null,
      "outputs": []
    },
    {
      "cell_type": "markdown",
      "source": [
        "23. Write a Python program that writes to a log file when an error occurs during file handling"
      ],
      "metadata": {
        "id": "o1vrSCN3SCfw"
      }
    },
    {
      "cell_type": "code",
      "source": [
        "import logging\n",
        "\n",
        "logging.basicConfig(filename='file_errors.log', level=logging.ERROR)\n",
        "\n",
        "try:\n",
        "    with open('missingfile.txt', 'r') as file:\n",
        "        content = file.read()\n",
        "except FileNotFoundError as e:\n",
        "    logging.error(f\"File error: {e}\")\n"
      ],
      "metadata": {
        "colab": {
          "base_uri": "https://localhost:8080/"
        },
        "id": "apl5B3a1SGgc",
        "outputId": "ccb02c59-9134-4b87-a197-ce3ea49a9054"
      },
      "execution_count": 25,
      "outputs": [
        {
          "output_type": "stream",
          "name": "stderr",
          "text": [
            "ERROR:root:File error: [Errno 2] No such file or directory: 'missingfile.txt'\n"
          ]
        }
      ]
    }
  ]
}